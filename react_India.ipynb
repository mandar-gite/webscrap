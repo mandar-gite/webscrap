{
 "cells": [
  {
   "cell_type": "code",
   "execution_count": 1,
   "metadata": {},
   "outputs": [],
   "source": [
    "import random\n",
    "import time\n",
    "from selenium import webdriver\n",
    "from selenium.webdriver.common.by import By\n",
    "from selenium.webdriver.common.keys import Keys\n",
    "from parsel import Selector\n",
    "import webscraping_helper as helper\n",
    "import pandas as pd\n",
    "\n",
    "login = \"mandar.gite@gmail.com\"\n",
    "password = \"Cortex@5326\"\n",
    "\n",
    "driver = webdriver.Chrome()   # instanstiate driver class for webdriver\n",
    "driver.get('http://www.linkedin.com/');\n",
    "time.sleep(5) # Let the user actually see something!\n",
    "\n",
    "\n",
    "# locate login id element \n",
    "session_key = driver.find_element('name','session_key' )\n",
    "# send to webdriver the email id \n",
    "session_key.send_keys(login)\n",
    "\n",
    "# locate password element \n",
    "session_password =driver.find_element('name','session_password')\n",
    "# send password to webdriver \n",
    "session_password.send_keys(password)\n",
    "\n",
    "# locate submit button \n",
    "submit = driver.find_element(By.CLASS_NAME,'sign-in-form__submit-button')\n",
    "# click on submit button \n",
    "submit.click()\n",
    "\n",
    "time.sleep(3) # Let the user actually see something!\n",
    " "
   ]
  },
  {
   "cell_type": "code",
   "execution_count": 2,
   "metadata": {},
   "outputs": [],
   "source": [
    "#instantiate empty list to save the list of the profile urls\n",
    "lnkdin_urls=[]"
   ]
  },
  {
   "cell_type": "code",
   "execution_count": 3,
   "metadata": {},
   "outputs": [],
   "source": [
    "def google_safe():\n",
    "    return random.randint(120, 1000)\n"
   ]
  },
  {
   "cell_type": "markdown",
   "metadata": {},
   "source": [
    "### Google Search Portion"
   ]
  },
  {
   "cell_type": "code",
   "execution_count": 4,
   "metadata": {},
   "outputs": [],
   "source": [
    "driver.get('https:www.google.com')\n",
    "time.sleep(4)"
   ]
  },
  {
   "cell_type": "code",
   "execution_count": 5,
   "metadata": {},
   "outputs": [],
   "source": [
    "# locate search form\n",
    "search_query = driver.find_element('name','q')\n",
    "\n",
    "# send_keys() to simulate the search text key strokes\n",
    "search_query.send_keys('site:linkedin.com/in/ AND \"React Develoepr\" AND \"India\"')\n"
   ]
  },
  {
   "cell_type": "code",
   "execution_count": 6,
   "metadata": {},
   "outputs": [],
   "source": [
    "# send_keys() to simulate the return key \n",
    "search_query.send_keys(Keys.ENTER)"
   ]
  },
  {
   "cell_type": "markdown",
   "metadata": {},
   "source": [
    "#### After Search Extranction of Linkedin urls "
   ]
  },
  {
   "cell_type": "code",
   "execution_count": 7,
   "metadata": {},
   "outputs": [],
   "source": [
    "def identify_urls():\n",
    "    \n",
    "    search_results = driver.find_elements(By.CLASS_NAME,\"yuRUbf\")\n",
    "    return  search_results\n"
   ]
  },
  {
   "cell_type": "code",
   "execution_count": 8,
   "metadata": {},
   "outputs": [],
   "source": [
    "def extract_urls(search_results):\n",
    "    # iterate the search_results to extact the linked-in profile urls \n",
    "    for result in search_results:\n",
    "        lnkdin_url = result.find_element(By.CSS_SELECTOR,'a[href]').get_attribute('href')\n",
    "        lnkdin_urls.append(lnkdin_url)\n",
    "    return lnkdin_urls    \n",
    " "
   ]
  },
  {
   "cell_type": "code",
   "execution_count": 9,
   "metadata": {},
   "outputs": [],
   "source": [
    "search_results= identify_urls()\n"
   ]
  },
  {
   "cell_type": "code",
   "execution_count": 10,
   "metadata": {},
   "outputs": [
    {
     "data": {
      "text/plain": [
       "['https://in.linkedin.com/in/piyush-sharma-694386187',\n",
       " 'https://in.linkedin.com/in/naveen-ambookken-249941212',\n",
       " 'https://in.linkedin.com/in/arjun-r-pillai',\n",
       " 'https://in.linkedin.com/in/sabeer-ali-3b99b3137',\n",
       " 'https://in.linkedin.com/in/manish-gupta0099',\n",
       " 'https://in.linkedin.com/in/uma-ramesh-2a4ab7100',\n",
       " 'https://in.linkedin.com/in/bharat-rathor-295189220',\n",
       " 'https://in.linkedin.com/in/shahid-husain-react-frontend',\n",
       " 'https://in.linkedin.com/in/shubham-singh-98347176?trk=public_profile_browsemap_profile-result-card_result-card_full-click',\n",
       " 'https://in.linkedin.com/in/avinash-sagar-363b27231/es?trk=people-guest_people_search-card']"
      ]
     },
     "execution_count": 10,
     "metadata": {},
     "output_type": "execute_result"
    }
   ],
   "source": [
    "extract_urls(search_results)"
   ]
  },
  {
   "cell_type": "code",
   "execution_count": 11,
   "metadata": {},
   "outputs": [],
   "source": [
    "xpath_next=\"\"\"//*[@id=\"pnnext\"]/span[2]\"\"\""
   ]
  },
  {
   "cell_type": "code",
   "execution_count": 12,
   "metadata": {},
   "outputs": [],
   "source": [
    "def click_next():\n",
    "    next_bttn=driver.find_element(By.XPATH,xpath_next)\n",
    "    next_bttn.click()\n",
    "    time.sleep(5)"
   ]
  },
  {
   "cell_type": "code",
   "execution_count": null,
   "metadata": {},
   "outputs": [],
   "source": [
    "\n",
    "#Iterate 10 times\n",
    "i = 0\n",
    "while i <200:\n",
    "    # Click the next button\n",
    "    click_next()\n",
    "\n",
    "    # Identify and extract URLs\n",
    "    urls = identify_urls()\n",
    "    extract_urls(urls)\n",
    "\n",
    "    # Increment the counter\n",
    "    i = i + 1\n",
    "    \n",
    "    # wait for google issue\n",
    "    time.sleep(google_safe())"
   ]
  },
  {
   "cell_type": "code",
   "execution_count": null,
   "metadata": {},
   "outputs": [],
   "source": [
    "dict= {\"urls\":lnkdin_urls}\n",
    "df= pd.DataFrame(dict)\n",
    "df.to_csv('react_india_profiles.csv')"
   ]
  },
  {
   "cell_type": "code",
   "execution_count": null,
   "metadata": {},
   "outputs": [],
   "source": [
    "len(lnkdin_urls)"
   ]
  },
  {
   "cell_type": "code",
   "execution_count": null,
   "metadata": {},
   "outputs": [],
   "source": [
    "#driver.get(lnkdin_urls[9])\n",
    "#time.sleep(5)"
   ]
  },
  {
   "cell_type": "code",
   "execution_count": null,
   "metadata": {},
   "outputs": [],
   "source": [
    "#sel= Selector(text=driver.page_source)"
   ]
  },
  {
   "cell_type": "code",
   "execution_count": null,
   "metadata": {},
   "outputs": [],
   "source": [
    "'''\n",
    "### Data Parsing from Linkedin Website\n",
    "\n",
    "xpath_name =\"\"\"//*[@id=\"ember29\"]/div[2]/div[2]/div[1]/div[1]/h1\"\"\" \n",
    "\n",
    "# xpath to extract the exact class containing the text\n",
    "#name1 = sel.xpath('//*[starts-with(@class, xpath_name)]/text()').extract()\n",
    "\n",
    "#len(name1)\n",
    "\n",
    "# using selenium  and not parse \n",
    "name=driver.find_element(By.XPATH, xpath_name).text\n",
    "name \n",
    "\n",
    "xpath_company= \"\"\"//*[@id=\"ember29\"]/div[2]/div[2]/ul/li[1]/button/span/div\"\"\"\n",
    "\n",
    "xpath_role=\"\"\"//*[@id=\"ember29\"]/div[2]/div[2]/div[1]/div[2]\"\"\"\n",
    "\n",
    "xpath_location=\"\"\"//*[@id=\"ember29\"]/div[2]/div[2]/div[2]/span[1]\"\"\"\n",
    "\n",
    "company=driver.find_element(By.XPATH, xpath_company).text\n",
    "company\n",
    "\n",
    "role=driver.find_element(By.XPATH, xpath_role).text\n",
    "role\n",
    "\n",
    "location=driver.find_element(By.XPATH, xpath_location).text\n",
    "location\n",
    "\n",
    "xpath_next=\"\"\"//*[@id=\"pnnext\"]/span[2]\"\"\"\n",
    "next_bttn=driver.find_element(By.XPATH,xpath_next)\n",
    "next_bttn.click()\n",
    "time.sleep(10)\n",
    "'''"
   ]
  }
 ],
 "metadata": {
  "kernelspec": {
   "display_name": "Python 3 (ipykernel)",
   "language": "python",
   "name": "python3"
  },
  "language_info": {
   "codemirror_mode": {
    "name": "ipython",
    "version": 3
   },
   "file_extension": ".py",
   "mimetype": "text/x-python",
   "name": "python",
   "nbconvert_exporter": "python",
   "pygments_lexer": "ipython3",
   "version": "3.10.6"
  },
  "vscode": {
   "interpreter": {
    "hash": "e7370f93d1d0cde622a1f8e1c04877d8463912d04d973331ad4851f04de6915a"
   }
  }
 },
 "nbformat": 4,
 "nbformat_minor": 2
}
